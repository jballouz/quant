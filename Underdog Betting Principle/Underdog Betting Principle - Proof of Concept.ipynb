{
 "cells": [
  {
   "cell_type": "markdown",
   "id": "dfd13bc5",
   "metadata": {},
   "source": [
    "# Underdog Betting Principle - Proof of Concept"
   ]
  },
  {
   "cell_type": "markdown",
   "id": "3859d3bd",
   "metadata": {},
   "source": [
    "Here we assume that the underlying assumpions of the underdog betting principle are true.\n",
    "We then conduct a monte carlo simulation to simulate the earnings over time. This is a proof of concept."
   ]
  },
  {
   "cell_type": "code",
   "execution_count": 36,
   "id": "da0bd62a",
   "metadata": {},
   "outputs": [],
   "source": [
    "#parameters\n",
    "#Bookies line: l_f and l_u in [0.5,1], i.e. probability that favorite wins for favorite and underdog betting lines,\n",
    "# # # # # # # # # # # # # # # # # # # # discrepency comes from bookie's margin m\n",
    "#Bookie's perceived odds: q in [0.5,1], i.e probability that favorite wins, without margin effect\n",
    "#Bookie's margin: m, i.e. percent taken from winnings\n",
    "#Underdog Betting Principle hypothesized odds: p in [0.5,1], i.e. true probability that favorite wins\n",
    "#Safety Factor: SF = p/q if p>=q, and SF = (1-p)/(1-q) if p<q, for same favorite case\n",
    "############### SF = p/(1-q), for different favorite case\n",
    "#p, q, l, m are all known\n",
    "#Earnings per bet = SF/m --> set SF/m to desired amount, with higher SF resulting in less playable bets \n",
    "# # # # # # # # # # # # # # # # # #  but higher earnings per bet -> find the balance for best cumulative earnings"
   ]
  },
  {
   "cell_type": "code",
   "execution_count": 32,
   "id": "248db46a",
   "metadata": {},
   "outputs": [],
   "source": [
    "#generating 1 betting scenario\n",
    "import numpy as np\n",
    "def generate_scenario(m, max_number_of_bets_per_scenario = 10000, max_amount_bet = 10):\n",
    "    A = np.random.uniform(1, max_number_of_bets)\n",
    "    B = np.random.uniform(1, max_number_of_bets)\n",
    "    A_dollars = 0\n",
    "    for i in range(A):\n",
    "        A_dollars += np.random.uniform(1, max_amount_bet)\n",
    "    for i in range(B):\n",
    "        B_dollars += np.random.uniform(1, max_amount_bet)\n",
    "    if A_dollars >= B_dollars:\n",
    "        f_decimal_l = B_dollars/A_dollars/m #favorite decimal line, adjusted for margin\n",
    "        u_decimal_l = A_dollars/B_dollars/m #underdog decimal line, adjusted for margin\n",
    "        l_f = 1/f_decimal_l #probability that favorite wins, based on favorite decimal line\n",
    "        l_u = 1-1/u_decimal_l #probability that favorite wins, based on underdog decimal line\n",
    "    else:\n",
    "        f_decimal_l = A_dollars/B_dollars/m #favorite decimal line, adjusted for margin\n",
    "        u_decimal_l = B_dollars/A_dollars/m #underdog decimal line, adjusted for margin\n",
    "        l_f = 1/f_decimal_l #probability that favorite wins, based on favorite decimal line\n",
    "        l_u = 1-1/u_decimal_l #probability that favorite wins, based on underdog decimal line\n",
    "    return l_f, l_u, A, B, same_favorite #initial data needed to work with (betting lines and # of bets),\n",
    "# # # # # # # # # # # # # # # # # # # # # here we generate it via uniform distributions"
   ]
  },
  {
   "cell_type": "code",
   "execution_count": 33,
   "id": "10929a97",
   "metadata": {},
   "outputs": [],
   "source": [
    "#calculate p,q,l odds for 1 betting scenario\n",
    "def calculate_odds(l_f, l_u, A, B):\n",
    "    m = 1+l_f-l_u\n",
    "    q = l_f/m\n",
    "    if A >= B:\n",
    "        f_decimal_p = B/A #Underdog Betting Principle decimal odds for favorite\n",
    "        p = 1/f_decimal_p #Unerdog Betting Principle hypothesized true odds for favorite\n",
    "    else:\n",
    "        f_decimal_p = A/B\n",
    "        p = 1/f_decimal_p\n",
    "    return p,q"
   ]
  },
  {
   "cell_type": "code",
   "execution_count": 34,
   "id": "8356c8bf",
   "metadata": {},
   "outputs": [],
   "source": [
    "def calculate_SF_and_position(p,q, same_favorite):\n",
    "    if same_favorite:\n",
    "        SF = p/q if p>=q else (1-p)/(1-q)\n",
    "        position = 1 if p>=q else 0 #position is who we bet on, in case bet is placed\n",
    "    else:\n",
    "        SF = p/(1-q)\n",
    "        position = 0 #always bet on underdog when true favorite is not bookie's favorite -> Underdog Betting Principle\n",
    "    return SF, position"
   ]
  },
  {
   "cell_type": "code",
   "execution_count": 35,
   "id": "6ffafeda",
   "metadata": {},
   "outputs": [],
   "source": [
    "def play_bet(p, q, same_favorite, m, desired_SF_over_m_ratio):\n",
    "    actual_SF_over_m_ratio, position = calculate_SF(p, q, same_favorite)/m\n",
    "    if actual_SF_over_m_ratio >= desired_SF_over_m_ratio: #place bet\n",
    "        expected_earnings_for_unit_bet = actual_SF_over_m_ratio\n",
    "        possible_earnings_for_unit_bet = 1/(q*m) if position==1 else 1/((1-q)*m)\n",
    "        outcome  = np.random.binomial(1, p) #this is our base assumption: reality follows the UBP hypothesized odds\n",
    "        actual_earnings_for_unit_bet = possible_earnings_for_unit_bet if outcome==position else -1\n",
    "    else:\n",
    "        expected_earnings_for_unit_bet = 0\n",
    "        actual_earnings_for_unit_bet = 0\n",
    "    return actual_earnings_for_unit_bet, expected_earnings_for_unit_bet"
   ]
  },
  {
   "cell_type": "code",
   "execution_count": 37,
   "id": "d5ba40b1",
   "metadata": {},
   "outputs": [],
   "source": [
    "#main\n",
    "desired_SF_over_m_ratios = [1.05, 1.1, 1.2, 1.3, 1.5] #model controllable parameters, i.e. desired Safety \n",
    "m = 1.05 #5% bookie's margin, can keep constant without loss of gerality since we are setting SF/m ratio\n",
    "Number_of_betting_scenarios = 10000\n",
    "results = []\n",
    "for i in range(len(desired_SF_over_m_ratios)):\n",
    "    expected_earnings_for_each_scenario = []\n",
    "    cumulative_expected_earnings = []\n",
    "    actual_earnings_for_each_scenario = []\n",
    "    cumulative_actual_earnings = []\n",
    "    desired_SF_over_m_ratio = desired_SF_over_m_ratios[i]\n",
    "    \n",
    "    "
   ]
  },
  {
   "cell_type": "code",
   "execution_count": null,
   "id": "adcf759f",
   "metadata": {},
   "outputs": [],
   "source": []
  }
 ],
 "metadata": {
  "kernelspec": {
   "display_name": "Python 3 (ipykernel)",
   "language": "python",
   "name": "python3"
  },
  "language_info": {
   "codemirror_mode": {
    "name": "ipython",
    "version": 3
   },
   "file_extension": ".py",
   "mimetype": "text/x-python",
   "name": "python",
   "nbconvert_exporter": "python",
   "pygments_lexer": "ipython3",
   "version": "3.9.7"
  }
 },
 "nbformat": 4,
 "nbformat_minor": 5
}
